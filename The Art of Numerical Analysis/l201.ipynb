{
 "cells": [
  {
   "cell_type": "code",
   "execution_count": 12,
   "metadata": {
    "scrolled": true
   },
   "outputs": [
    {
     "name": "stdout",
     "output_type": "stream",
     "text": [
      "------------------------------\n",
      "Polygon of 12 slides:\n",
      "pi(calc) = 3.105828541230249\n",
      "diff = 0.035764112359544\n",
      "------------------------------\n",
      "Polygon of 24 slides:\n",
      "pi(calc) = 3.132628613281238\n",
      "diff = 0.008964040308555\n",
      "------------------------------\n",
      "Polygon of 48 slides:\n",
      "pi(calc) = 3.139350203046867\n",
      "diff = 0.002242450542926\n",
      "------------------------------\n",
      "Polygon of 96 slides:\n",
      "pi(calc) = 3.141031950890510\n",
      "diff = 0.000560702699283\n",
      "------------------------------\n",
      "Polygon of 192 slides:\n",
      "pi(calc) = 3.141452472285462\n",
      "diff = 0.000140181304331\n",
      "------------------------------\n",
      "Polygon of 384 slides:\n",
      "pi(calc) = 3.141557607911857\n",
      "diff = 0.000035045677935\n",
      "------------------------------\n",
      "Polygon of 768 slides:\n",
      "pi(calc) = 3.141583892148319\n",
      "diff = 0.000008761441475\n",
      "------------------------------\n",
      "Polygon of 1536 slides:\n",
      "pi(calc) = 3.141590463228050\n",
      "diff = 0.000002190361743\n",
      "------------------------------\n",
      "Polygon of 3072 slides:\n",
      "pi(calc) = 3.141592105999272\n",
      "diff = 0.000000547590521\n",
      "------------------------------\n",
      "Polygon of 6144 slides:\n",
      "pi(calc) = 3.141592516692158\n",
      "diff = 0.000000136897636\n",
      "------------------------------\n",
      "Polygon of 12288 slides:\n",
      "pi(calc) = 3.141592619365384\n",
      "diff = 0.000000034224409\n",
      "------------------------------\n",
      "Polygon of 24576 slides:\n",
      "pi(calc) = 3.141592645033691\n",
      "diff = 0.000000008556102\n",
      "------------------------------\n",
      "Polygon of 49152 slides:\n",
      "pi(calc) = 3.141592651450768\n",
      "diff = 0.000000002139025\n",
      "------------------------------\n",
      "Polygon of 98304 slides:\n",
      "pi(calc) = 3.141592653055037\n",
      "diff = 0.000000000534756\n",
      "------------------------------\n",
      "Polygon of 196608 slides:\n",
      "pi(calc) = 3.141592653456104\n",
      "diff = 0.000000000133689\n",
      "------------------------------\n",
      "Polygon of 393216 slides:\n",
      "pi(calc) = 3.141592653556371\n",
      "diff = 0.000000000033422\n",
      "------------------------------\n",
      "Polygon of 786432 slides:\n",
      "pi(calc) = 3.141592653581438\n",
      "diff = 0.000000000008355\n",
      "------------------------------\n",
      "Polygon of 1572864 slides:\n",
      "pi(calc) = 3.141592653587705\n",
      "diff = 0.000000000002089\n",
      "------------------------------\n",
      "Polygon of 3145728 slides:\n",
      "pi(calc) = 3.141592653589271\n",
      "diff = 0.000000000000522\n",
      "------------------------------\n",
      "Polygon of 6291456 slides:\n",
      "pi(calc) = 3.141592653589662\n",
      "diff = 0.000000000000131\n"
     ]
    }
   ],
   "source": [
    "import math\n",
    "import decimal\n",
    "\n",
    "nsides = 6\n",
    "length = decimal.Decimal(\"1\")\n",
    "\n",
    "for i in range(20):\n",
    "    length = (decimal.Decimal(\"2\") - (decimal.Decimal(\"4\") - length**2)**decimal.Decimal(\"0.5\"))\\\n",
    "                **decimal.Decimal(\"0.5\")\n",
    "    nsides *= 2\n",
    "    pi = length*nsides/decimal.Decimal(\"2\")\n",
    "\n",
    "    print('-'*30)\n",
    "    print('Polygon of',nsides,'slides:')\n",
    "    print('pi(calc) = %.15f' % pi)\n",
    "    print('diff = %.15f' % abs(decimal.Decimal(str(math.pi))-pi))\n"
   ]
  },
  {
   "cell_type": "code",
   "execution_count": 11,
   "metadata": {},
   "outputs": [
    {
     "name": "stdout",
     "output_type": "stream",
     "text": [
      "------------------------------\n",
      "Sum up to 1000 step:\n",
      "pi(calc) = 3.140638056205993\n",
      "diff = 0.000954597383800\n",
      "------------------------------\n",
      "Sum up to 10000 step:\n",
      "pi(calc) = 3.141497163947215\n",
      "diff = 0.000095489642578\n",
      "------------------------------\n",
      "Sum up to 100000 step:\n",
      "pi(calc) = 3.141583104326437\n",
      "diff = 0.000009549263357\n"
     ]
    }
   ],
   "source": [
    "import math\n",
    "\n",
    "pi_2 = 0.\n",
    "\n",
    "for N in [1000,10000,100000]:\n",
    "    pi_2 = 0.\n",
    "    for n in range(1,N+1):\n",
    "        pi_2 += 6*(1/n**2)\n",
    "        pi = pi_2**0.5\n",
    "    print('-'*30)\n",
    "    print('Sum up to',N,'step:')\n",
    "    print('pi(calc) = %.15f' % pi)\n",
    "    print('diff = %.15f' % abs(math.pi-pi))"
   ]
  },
  {
   "cell_type": "code",
   "execution_count": null,
   "metadata": {
    "collapsed": true
   },
   "outputs": [],
   "source": []
  }
 ],
 "metadata": {
  "kernelspec": {
   "display_name": "Python 3",
   "language": "python",
   "name": "python3"
  },
  "language_info": {
   "codemirror_mode": {
    "name": "ipython",
    "version": 3
   },
   "file_extension": ".py",
   "mimetype": "text/x-python",
   "name": "python",
   "nbconvert_exporter": "python",
   "pygments_lexer": "ipython3",
   "version": "3.6.2"
  }
 },
 "nbformat": 4,
 "nbformat_minor": 2
}
