{
 "cells": [
  {
   "cell_type": "code",
   "execution_count": 10,
   "metadata": {
    "collapsed": false
   },
   "outputs": [
    {
     "name": "stdout",
     "output_type": "stream",
     "text": [
      "Step: 0.100000, Exact: 0.1765358676046381, Numerical: 0.1771965813714128, diff: 0.0006607137667747\n",
      "Step: 0.010000, Exact: 0.1765358676046381, Numerical: 0.1765359063018050, diff: 0.0000000386971669\n",
      "Step: 0.001000, Exact: 0.1765358676046381, Numerical: 0.1765358676084929, diff: 0.0000000000038548\n",
      "Step: 0.000100, Exact: 0.1765358676046381, Numerical: 0.1765358676046789, diff: 0.0000000000000408\n",
      "Step: 0.000010, Exact: 0.1765358676046381, Numerical: 0.1765358676052109, diff: 0.0000000000005728\n",
      "Step: 0.000001, Exact: 0.1765358676046381, Numerical: 0.1765358676101396, diff: 0.0000000000055015\n",
      "Step: 0.000000, Exact: 0.1765358676046381, Numerical: 0.1765358676729816, diff: 0.0000000000683435\n"
     ]
    }
   ],
   "source": [
    "##　Practice 1\n",
    "import math\n",
    "\n",
    "def f(x):\n",
    "    return x - x**2 + x**3 - x**4 + math.sin(x*13.)/13.\n",
    "def fint(x):\n",
    "    return x**2/2. - x**3/3. + x**4/4. - x**5/5. - math.cos(x*13.)/169.\n",
    "\n",
    "fint_exact = fint(1.2)-fint(0.)\n",
    "for step in [1E-1, 1E-2, 1E-3, 1E-4, 1E-5, 1E-6, 1E-7]:\n",
    "    area, x, h = 0., 0., step\n",
    "    f0 = f1 = f2 = f3 = f(x)   \n",
    "    while x<1.2-h*0.5:\n",
    "        f0, f1, f2, f3 = f3, f(x+h), f(x+h*2.), f(x+h*3.)\n",
    "        x += h*3.\t\n",
    "        area += f0*3.+f1*9.+f2*9.+f3*3\n",
    "    area *= h/8.\n",
    "    print('Step: %f, Exact: %.16f, Numerical: %.16f, diff: %.16f' \\\n",
    "    % (step, fint_exact,area,abs(fint_exact-area)))"
   ]
  },
  {
   "cell_type": "code",
   "execution_count": null,
   "metadata": {
    "collapsed": true
   },
   "outputs": [],
   "source": [
    "# Simpson's method\n",
    "Exact: 0.1765358676046381, Numerical: 0.1765358676063498, diff: 0.0000000000017117\n"
   ]
  },
  {
   "cell_type": "code",
   "execution_count": 13,
   "metadata": {
    "collapsed": false
   },
   "outputs": [
    {
     "name": "stdout",
     "output_type": "stream",
     "text": [
      "3.14159265359\n",
      "Exact: 0.0000000000000001\n",
      "Numerical: 0.0000000000000000+-0.0000000000000221, diff: 0.0000000000000001\n",
      "314.159265359\n",
      "Exact: 0.0000000000000020\n",
      "Numerical: -0.0000000000000534+-0.0000000000021615, diff: 0.0000000000000554\n",
      "3141.59265359\n",
      "Exact: -0.0000000000003214\n",
      "Numerical: 0.0000000000500966+-0.0000000000199940, diff: 0.0000000000504180\n",
      "315.730061686\n",
      "Exact: 1.0000000000000000\n",
      "Numerical: 0.9999999999999740+-0.0000000001226452, diff: 0.0000000000000260\n",
      "3143.16344992\n",
      "Exact: 1.0000000000000000\n",
      "Numerical: 12.4004339385757341+-283.3100393249637818, diff: 11.4004339385757341\n",
      "6283.18530718\n",
      "Exact: -0.0000000000006428\n",
      "Numerical: 0.0000000001713992+-0.0000000000395481, diff: 0.0000000001720421\n"
     ]
    }
   ],
   "source": [
    "## Practice 2\n",
    "import math\n",
    "import scipy.integrate as integrate\n",
    "\n",
    "def f(x):\n",
    "    return math.cos(x)\n",
    "def fint(x):\n",
    "    return math.sin(x)\n",
    "\n",
    "for upper_bound in [math.pi, 100*math.pi, 1000*math.pi, \n",
    "                    100.5*math.pi, 1000.5*math.pi, 2000*math.pi]:\n",
    "    \n",
    "    fint_exact = fint(upper_bound)-fint(0.)\n",
    "\n",
    "    quad,quaderr = integrate.quad(f,0.,upper_bound,maxp1=100)\n",
    "    print(upper_bound)\n",
    "    print('Exact: %.16f' %  fint_exact)\n",
    "    print('Numerical: %.16f+-%.16f, diff: %.16f' % \\\n",
    "          (quad,quaderr,abs(fint_exact-quad)))\n"
   ]
  },
  {
   "cell_type": "code",
   "execution_count": null,
   "metadata": {
    "collapsed": true
   },
   "outputs": [],
   "source": []
  }
 ],
 "metadata": {
  "kernelspec": {
   "display_name": "Python 2",
   "language": "python",
   "name": "python2"
  },
  "language_info": {
   "codemirror_mode": {
    "name": "ipython",
    "version": 2
   },
   "file_extension": ".py",
   "mimetype": "text/x-python",
   "name": "python",
   "nbconvert_exporter": "python",
   "pygments_lexer": "ipython2",
   "version": "2.7.11"
  }
 },
 "nbformat": 4,
 "nbformat_minor": 0
}
